{
  "nbformat": 4,
  "nbformat_minor": 0,
  "metadata": {
    "colab": {
      "name": "binary_classification.ipynb",
      "provenance": [],
      "collapsed_sections": []
    },
    "kernelspec": {
      "name": "python3",
      "display_name": "Python 3"
    },
    "accelerator": "GPU"
  },
  "cells": [
    {
      "cell_type": "code",
      "metadata": {
        "id": "Yks4A88ELrrO",
        "colab_type": "code",
        "colab": {
          "base_uri": "https://localhost:8080/",
          "height": 151
        },
        "outputId": "0867055e-fec2-49ef-f832-030784d92997"
      },
      "source": [
        "!pip install -q git+https://github.com/dzlab/tfnlp"
      ],
      "execution_count": null,
      "outputs": [
        {
          "output_type": "stream",
          "text": [
            "\u001b[K     |████████████████████████████████| 849kB 4.7MB/s \n",
            "\u001b[K     |████████████████████████████████| 36.6MB 83kB/s \n",
            "\u001b[K     |████████████████████████████████| 358kB 54.8MB/s \n",
            "\u001b[K     |████████████████████████████████| 174kB 55.4MB/s \n",
            "\u001b[K     |████████████████████████████████| 102kB 12.1MB/s \n",
            "\u001b[K     |████████████████████████████████| 1.1MB 49.2MB/s \n",
            "\u001b[?25h  Building wheel for tfnlp (setup.py) ... \u001b[?25l\u001b[?25hdone\n",
            "  Building wheel for py-cpuinfo (setup.py) ... \u001b[?25l\u001b[?25hdone\n"
          ],
          "name": "stdout"
        }
      ]
    },
    {
      "cell_type": "code",
      "metadata": {
        "id": "KM1BBy6eL8uN",
        "colab_type": "code",
        "colab": {}
      },
      "source": [
        "import os\n",
        "import pandas as pd\n",
        "import matplotlib.pyplot as plt"
      ],
      "execution_count": null,
      "outputs": []
    },
    {
      "cell_type": "code",
      "metadata": {
        "id": "TuChTnEOMH3i",
        "colab_type": "code",
        "colab": {}
      },
      "source": [
        "import tensorflow as tf\n",
        "import tensorflow_hub as hub\n",
        "import tensorflow_datasets as tfds\n",
        "tfds.disable_progress_bar()"
      ],
      "execution_count": null,
      "outputs": []
    },
    {
      "cell_type": "code",
      "metadata": {
        "id": "PanD4Pu2MKrs",
        "colab_type": "code",
        "colab": {}
      },
      "source": [
        "from tfnlp.classification import ClassificationModel"
      ],
      "execution_count": null,
      "outputs": []
    },
    {
      "cell_type": "markdown",
      "metadata": {
        "id": "CWnlo00UidUy",
        "colab_type": "text"
      },
      "source": [
        "## Data\n",
        "Download IMDb dataset from Tensoflow Datasets"
      ]
    },
    {
      "cell_type": "code",
      "metadata": {
        "id": "JfuCKSDgMOAB",
        "colab_type": "code",
        "colab": {
          "base_uri": "https://localhost:8080/",
          "height": 121
        },
        "outputId": "9f63facc-2630-4e87-b7b0-47b778c079a3"
      },
      "source": [
        "imdb, info = tfds.load('imdb_reviews/plain_text', with_info=True, batch_size=-1)"
      ],
      "execution_count": null,
      "outputs": [
        {
          "output_type": "stream",
          "text": [
            "\u001b[1mDownloading and preparing dataset imdb_reviews/plain_text/1.0.0 (download: 80.23 MiB, generated: Unknown size, total: 80.23 MiB) to /root/tensorflow_datasets/imdb_reviews/plain_text/1.0.0...\u001b[0m\n",
            "Shuffling and writing examples to /root/tensorflow_datasets/imdb_reviews/plain_text/1.0.0.incomplete0L8WMY/imdb_reviews-train.tfrecord\n",
            "Shuffling and writing examples to /root/tensorflow_datasets/imdb_reviews/plain_text/1.0.0.incomplete0L8WMY/imdb_reviews-test.tfrecord\n",
            "Shuffling and writing examples to /root/tensorflow_datasets/imdb_reviews/plain_text/1.0.0.incomplete0L8WMY/imdb_reviews-unsupervised.tfrecord\n",
            "\u001b[1mDataset imdb_reviews downloaded and prepared to /root/tensorflow_datasets/imdb_reviews/plain_text/1.0.0. Subsequent calls will reuse this data.\u001b[0m\n"
          ],
          "name": "stdout"
        }
      ]
    },
    {
      "cell_type": "code",
      "metadata": {
        "id": "qtCknSXiMVCv",
        "colab_type": "code",
        "colab": {}
      },
      "source": [
        "def load(imdb, set_type):\n",
        "  if set_type != 'unsupervised':\n",
        "    df = pd.DataFrame({\n",
        "      'label': imdb[set_type]['label'],\n",
        "      'text_a': imdb[set_type]['text']\n",
        "      })\n",
        "    df['label'] = df['label'].apply(lambda x: str(x))\n",
        "  else:\n",
        "    df = pd.DataFrame({\n",
        "      'text_a': imdb['unsupervised']['text']\n",
        "      })\n",
        "  df['text_a'] = df['text_a'].str.decode('utf-8')\n",
        "  return df"
      ],
      "execution_count": null,
      "outputs": []
    },
    {
      "cell_type": "markdown",
      "metadata": {
        "id": "LjV6CPn9iv59",
        "colab_type": "text"
      },
      "source": [
        "Load the dataset into a DataFarme with two columns: `text_a`, `label`.\n",
        "\n",
        "Also, save the DataFrames as CSV files for training/validation and testing."
      ]
    },
    {
      "cell_type": "code",
      "metadata": {
        "id": "4ZeYVwPiMkfh",
        "colab_type": "code",
        "colab": {}
      },
      "source": [
        "# load datasets from imdb\n",
        "train_df = load(imdb, 'train')\n",
        "valid_df = load(imdb, 'test')\n",
        "test_df = load(imdb, 'unsupervised')\n",
        "# write datasets to disk\n",
        "train_df.to_csv(\"./train.csv\", index=False, encoding='UTF-8')\n",
        "valid_df.to_csv(\"./dev.csv\", index=False)\n",
        "test_df.to_csv(\"./test.csv\", index=False)"
      ],
      "execution_count": null,
      "outputs": []
    },
    {
      "cell_type": "markdown",
      "metadata": {
        "id": "eFRaVOGfMu6H",
        "colab_type": "text"
      },
      "source": [
        "## Training"
      ]
    },
    {
      "cell_type": "markdown",
      "metadata": {
        "id": "sIfHS_NyjfbC",
        "colab_type": "text"
      },
      "source": [
        "Define training parameters"
      ]
    },
    {
      "cell_type": "code",
      "metadata": {
        "id": "sW75usuvMm_p",
        "colab_type": "code",
        "colab": {}
      },
      "source": [
        "train_args={\n",
        "  'max_seq_length': 128,\n",
        "  'num_labels': 2,\n",
        "  'labels': ['0', '1'],\n",
        "  'num_train_epochs': 1,\n",
        "  'batch_size': 32,\n",
        "  'eval_batch_size': 32,\n",
        "  'train_data_size': len(train_df),\n",
        "  'init_lr': 2e-5,\n",
        "  'do_lower_case': True,\n",
        "  # optimizer params\n",
        "  'use_float16': False,\n",
        "  'use_graph_rewrite': False,\n",
        "  # distribution strategy params\n",
        "  'distribution_strategy': 'one_device',\n",
        "  'num_gpus': 1,\n",
        "  'tpu': None,\n",
        "}"
      ],
      "execution_count": null,
      "outputs": []
    },
    {
      "cell_type": "markdown",
      "metadata": {
        "id": "YtunF_8xjWyP",
        "colab_type": "text"
      },
      "source": [
        "### Load model from checkpoint"
      ]
    },
    {
      "cell_type": "code",
      "metadata": {
        "id": "YTOrXJbSRbgv",
        "colab_type": "code",
        "colab": {}
      },
      "source": [
        "gs_folder_bert = \"gs://cloud-tpu-checkpoints/bert/keras_bert/uncased_L-12_H-768_A-12\""
      ],
      "execution_count": null,
      "outputs": []
    },
    {
      "cell_type": "markdown",
      "metadata": {
        "id": "23nuxQ4mRc8Y",
        "colab_type": "text"
      },
      "source": [
        "#### Train a classifier with data from CSV"
      ]
    },
    {
      "cell_type": "code",
      "metadata": {
        "id": "gOycC4IkMpHu",
        "colab_type": "code",
        "colab": {
          "base_uri": "https://localhost:8080/",
          "height": 54
        },
        "outputId": "fcca961a-e23e-4cc6-a11d-faf7682e06f9"
      },
      "source": [
        "# Create a ClassificationModel\n",
        "model = ClassificationModel.from_checkpoint(gs_folder_bert, train_args)\n",
        "# Train the model\n",
        "model.train(data_path='.')\n",
        "\n",
        "labels, label_ids = model.evaluate(data_path='.')"
      ],
      "execution_count": null,
      "outputs": [
        {
          "output_type": "stream",
          "text": [
            "782/782 [==============================] - 829s 1s/step - loss: 0.5372 - accuracy: 0.7032 - val_loss: 0.4805 - val_accuracy: 0.7455\n"
          ],
          "name": "stdout"
        }
      ]
    },
    {
      "cell_type": "markdown",
      "metadata": {
        "id": "CbYDPIfDRmMx",
        "colab_type": "text"
      },
      "source": [
        "#### Train a classifier with data from DataFrame"
      ]
    },
    {
      "cell_type": "code",
      "metadata": {
        "id": "g3qdhujKMtd_",
        "colab_type": "code",
        "colab": {
          "base_uri": "https://localhost:8080/",
          "height": 54
        },
        "outputId": "3b5f36a6-3822-493e-ef7f-94494bb20485"
      },
      "source": [
        "# Create a classifier\n",
        "model = ClassificationModel.from_checkpoint(gs_folder_bert, train_args)\n",
        "# Train the classifier\n",
        "model.train(train_df=train_df, valid_df=valid_df)\n",
        "# Test the classifier\n",
        "labels, label_ids = model.evaluate(eval_df=test_df)"
      ],
      "execution_count": null,
      "outputs": [
        {
          "output_type": "stream",
          "text": [
            "782/782 [==============================] - 857s 1s/step - loss: 0.3512 - accuracy: 0.8355 - val_loss: 0.2749 - val_accuracy: 0.8822\n"
          ],
          "name": "stdout"
        }
      ]
    },
    {
      "cell_type": "markdown",
      "metadata": {
        "id": "53jbk_S5PrlX",
        "colab_type": "text"
      },
      "source": [
        "### Load model from TF Hub"
      ]
    },
    {
      "cell_type": "code",
      "metadata": {
        "id": "xHxXSMCXPHeh",
        "colab_type": "code",
        "colab": {}
      },
      "source": [
        "hub_model_name = \"bert_en_uncased_L-12_H-768_A-12\" #@param [\"bert_en_uncased_L-24_H-1024_A-16\", \"bert_en_wwm_cased_L-24_H-1024_A-16\", \"bert_en_uncased_L-12_H-768_A-12\", \"bert_en_wwm_uncased_L-24_H-1024_A-16\", \"bert_en_cased_L-24_H-1024_A-16\", \"bert_en_cased_L-12_H-768_A-12\", \"bert_zh_L-12_H-768_A-12\", \"bert_multi_cased_L-12_H-768_A-12\"]"
      ],
      "execution_count": null,
      "outputs": []
    },
    {
      "cell_type": "markdown",
      "metadata": {
        "id": "1R0kqmWyXv8U",
        "colab_type": "text"
      },
      "source": [
        "#### Train a classifier with data from CSV"
      ]
    },
    {
      "cell_type": "code",
      "metadata": {
        "id": "Tc8FbRsYPOhZ",
        "colab_type": "code",
        "colab": {
          "base_uri": "https://localhost:8080/",
          "height": 54
        },
        "outputId": "79d9457d-2884-4b4e-881c-d9551ca79aee"
      },
      "source": [
        "# Download base model\n",
        "hub_url_bert = f\"https://tfhub.dev/tensorflow/{hub_model_name}/2\"\n",
        "model = ClassificationModel.from_tfhub(hub_url_bert, train_args)\n",
        "# Train the model\n",
        "model.train(data_path='.')\n",
        "# Test the classifier\n",
        "labels, label_ids = model.evaluate(data_path='.')"
      ],
      "execution_count": null,
      "outputs": [
        {
          "output_type": "stream",
          "text": [
            "782/782 [==============================] - 893s 1s/step - loss: 0.5419 - accuracy: 0.6952 - val_loss: 0.4807 - val_accuracy: 0.7457\n"
          ],
          "name": "stdout"
        }
      ]
    },
    {
      "cell_type": "markdown",
      "metadata": {
        "id": "koYLWRPBXsEs",
        "colab_type": "text"
      },
      "source": [
        "#### Train a classifier with data from DataFrame"
      ]
    },
    {
      "cell_type": "code",
      "metadata": {
        "id": "EpkPkO1aPRnY",
        "colab_type": "code",
        "colab": {
          "base_uri": "https://localhost:8080/",
          "height": 54
        },
        "outputId": "ead76143-f7d9-4e8f-ced2-f4e55f0bfe78"
      },
      "source": [
        "# Download base model\n",
        "hub_url_bert = f\"https://tfhub.dev/tensorflow/{hub_model_name}/2\"\n",
        "model = ClassificationModel.from_tfhub(hub_url_bert, train_args)\n",
        "# Train the model\n",
        "model.train(train_df=train_df, valid_df=valid_df)\n",
        "# Test the classifier\n",
        "labels, label_ids = model.evaluate(eval_df=test_df)"
      ],
      "execution_count": null,
      "outputs": [
        {
          "output_type": "stream",
          "text": [
            "782/782 [==============================] - 923s 1s/step - loss: 0.3475 - accuracy: 0.8411 - val_loss: 0.2730 - val_accuracy: 0.8819\n"
          ],
          "name": "stdout"
        }
      ]
    },
    {
      "cell_type": "code",
      "metadata": {
        "id": "GkhS26MeX0-Y",
        "colab_type": "code",
        "colab": {}
      },
      "source": [
        ""
      ],
      "execution_count": null,
      "outputs": []
    }
  ]
}